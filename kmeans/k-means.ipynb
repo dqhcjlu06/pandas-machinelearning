{
 "cells": [
  {
   "cell_type": "code",
   "execution_count": 3,
   "metadata": {},
   "outputs": [],
   "source": [
    "# 导入依赖库\n",
    "import numpy as np\n",
    "import pandas as pd"
   ]
  },
  {
   "cell_type": "code",
   "execution_count": 16,
   "metadata": {},
   "outputs": [],
   "source": [
    "def distEclud (vec1, vec2):\n",
    "    return np.sqrt(np.sum(np.power(vec1-vec2, 2)))\n",
    "\n",
    "def initCentroids (dataSet, k):\n",
    "    n = dataSet.shape[1]\n",
    "    centroids = pd.DataFrame(np.zeros((k, n)))\n",
    "    data_min = dataSet.min()\n",
    "    data_range = dataSet.max() - data_min\n",
    "    for j in range(n):\n",
    "        minJ = data_min[j]\n",
    "        rangeJ = float(data_range[j])\n",
    "        centroids.iloc[:,j] = minJ + rangeJ * np.random.rand(k, 1)\n",
    "    return centroids\n",
    "\n",
    "def kMeans(data, k):\n",
    "    m = data.shape[0]\n",
    "    clusterAssment = pd.DataFrame(np.zeros((m, 2)), columns=['clusterName', 'dist'])\n",
    "    centroids = initCentroids(data, k)\n",
    "    clusterChanged = True\n",
    "    while clusterChanged:\n",
    "        clusterChanged = False\n",
    "        for i in range(m):\n",
    "            minDist = np.inf\n",
    "            minIndex = -1\n",
    "            for j in range(k):\n",
    "                # print(i, j, m, len(centroids))\n",
    "                dist = distEclud(data.iloc[i, :], centroids.iloc[j, :])\n",
    "                if dist < minDist:\n",
    "                    minDist = dist\n",
    "                    minIndex = j\n",
    "            if clusterAssment.iloc[i,0] != minIndex:\n",
    "                clusterChanged = True\n",
    "            clusterAssment.iloc[i,:] = minIndex,minDist**2\n",
    "        #print centroids\n",
    "        centroids = data.groupby(clusterAssment.clusterName).mean()\n",
    "    return centroids, clusterAssment"
   ]
  },
  {
   "cell_type": "code",
   "execution_count": 4,
   "metadata": {},
   "outputs": [],
   "source": [
    "# 绘制二维图片\n",
    "%matplotlib inline\n",
    "import matplotlib.pyplot as plt\n",
    "\n",
    "def showCluster(dataSet, k, centroids, clusterAssment):\n",
    "    numSample, dim = dataSet.shape\n",
    "    mark = ['or', 'ob', 'og', 'ok', '^r', '+r', 'sr', 'dr', '<r', 'pr']\n",
    "    if k > len(mark):\n",
    "        print('Sorry! Your k is too large! ')\n",
    "        return 1\n",
    "    \n",
    "    # draw\n",
    "    for i in range(numSample):\n",
    "        markIndex = int(clusterAssment.iloc[i, 0])\n",
    "        plt.plot(dataSet.iloc[i, 0], dataSet.iloc[i, 1], mark[markIndex])\n",
    "    \n",
    "    mark = ['Dr', 'Db', 'Dg', 'Dk', '^b', '+b', 'sb', 'db', '<b', 'pb']\n",
    "    # draw the centroids\n",
    "    for i in range(k):\n",
    "        plt.plot(centroids.iloc[i, 0], centroids.iloc[i, 1], mark[i], markersize = 12)\n",
    "    \n",
    "    plt.show()"
   ]
  },
  {
   "cell_type": "markdown",
   "metadata": {},
   "source": [
    "### 测试\n"
   ]
  },
  {
   "cell_type": "code",
   "execution_count": 14,
   "metadata": {},
   "outputs": [
    {
     "data": {
      "text/plain": [
       "<matplotlib.collections.PathCollection at 0x7f9a19ba1550>"
      ]
     },
     "execution_count": 14,
     "metadata": {},
     "output_type": "execute_result"
    },
    {
     "data": {
      "image/png": "[encoded data removed]",
      "text/plain": [
       "<Figure size 432x288 with 1 Axes>"
      ]
     },
     "metadata": {
      "needs_background": "light"
     },
     "output_type": "display_data"
    }
   ],
   "source": [
    "# 测试数据是二维的，共80个样本。有4个类。\n",
    "data = pd.read_csv('./data/testSet.txt', header=None, sep='\\s+')\n",
    "plt.scatter(x=data.iloc[:, 0], y=data.iloc[:, 1])"
   ]
  },
  {
   "cell_type": "code",
   "execution_count": 17,
   "metadata": {},
   "outputs": [
    {
     "data": {
      "image/png": "[encoded data removed]",
      "text/plain": [
       "<Figure size 432x288 with 1 Axes>"
      ]
     },
     "metadata": {
      "needs_background": "light"
     },
     "output_type": "display_data"
    }
   ],
   "source": [
    "centroids, clusterAssment = kMeans(data, 4)\n",
    "showCluster(data, 4, centroids, clusterAssment)"
   ]
  },
  {
   "cell_type": "code",
   "execution_count": null,
   "metadata": {},
   "outputs": [],
   "source": []
  }
 ],
 "metadata": {
  "kernelspec": {
   "display_name": "Python 3",
   "language": "python",
   "name": "python3"
  },
  "language_info": {
   "codemirror_mode": {
    "name": "ipython",
    "version": 3
   },
   "file_extension": ".py",
   "mimetype": "text/x-python",
   "name": "python",
   "nbconvert_exporter": "python",
   "pygments_lexer": "ipython3",
   "version": "3.7.3"
  }
 },
 "nbformat": 4,
 "nbformat_minor": 4
}
